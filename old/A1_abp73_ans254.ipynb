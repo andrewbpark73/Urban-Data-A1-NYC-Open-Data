{
  "cells": [
    {
      "cell_type": "markdown",
      "metadata": {
        "id": "EzspEYv8VMlF"
      },
      "source": [
        "## Assignment 1\n",
        "\n",
        "**Submission instructions**: Please submit this assignment as a jupyter notebook on Canvas. Your submission should consist of this file with answers filled out in the notebook itself; do not submit any other files. Rename the file to be called \"A1_YourNetID.ipynb\". If you have two team members, please name it \"A1_NetIDa_NetIDb.ipynb\".\n",
        "\n",
        "### Problem 1: Getting Data (25 points)\n",
        "\n",
        "\n",
        "#### Go to [NYC Open Data](https://data.cityofnewyork.us/) and find a dataset which looks interesting to you. Describe its primary columns and describe what each row corresponds to. Brainstorm 3 questions you can answer with this dataset."
      ]
    },
    {
      "cell_type": "markdown",
      "metadata": {
        "id": "-scZ4vNBVMlI"
      },
      "source": [
        "## **Andrew's Pick (netid: abp73)**\n",
        "\n",
        "**NYC EV Fleet Station Network, <br> https://data.cityofnewyork.us/City-Government/NYC-EV-Fleet-Station-Network/fc53-9hrv/about_data**\n",
        "\n",
        "**1. Summary and Idea** <br> <br>\n",
        "   NYC's DCAS has installed over 1,600 EV charging ports citywide, and I assume this is showcasing a shift from gas to electric vehicles in the municipal fleet. While the data shows charging stations that were primarily for City Vehicle Operators, some chargers are publicly accessible as they say, with plans for expansion, indicating NYC's broader commitment to EV adoption. In addition to this, when thinking about autonomous vehicles that will go to charging stations with their own system, the location of these EV stations will also be an important aspect when planning urban traffic structures. <br> <br>\n",
        "\n",
        "**2. Primary columns and Describe** <br>\n",
        "1. BOROUGH: Crucial for analyzing EV station distribution across NYC's five boroughs, enabling comparisons of installation densities and potential socioeconomic correlations.\n",
        "2. LATITUDE + LONGITUDE: Provide precise location data for mapping and analysis of station placement in relation to urban structures.\n",
        "3. AGENCY: Identifies responsible city entities, revealing which agencies are leading in EV infrastructure deployment in NYC.\n",
        "4. PUBLIC CHARGER?: Indicates if the charging station is open to the general public. This is vital for understanding the accessibility of the EV infrastructure (sometimes with no fee) and how it serves both city fleet and public needs, showing the broader commitment to EV adoption. <br> <br>\n",
        "\n",
        "**3. Questions** <br>\n",
        "1. Which borough has the most EV charging stations installed, and which areas are highlighted when shown on a density map by using nthe latitude, ongitude data? What might be the reasons for the high concentration of EV charging stations in these areas? Is there a correlation between the number of EV charging stations and autonomous vehicle policy of the borough?\n",
        "2. (Considering that the data is updated monthly) Which boroughs and streets are currently seeing rapid growth in EV charging station installations, and which areas are lagging behind? Can the EV station impact the rise of property values and land prices in these areas (look into the correlation)?\n",
        "3. Which government agency has installed the most EV charging stations, and what could be the reasons for the differences in installation rates among agencies? Consider policy factors, agency visions, or other relevant aspects."
      ]
    },
    {
      "cell_type": "markdown",
      "metadata": {},
      "source": [
        "## **Amit's Pick (netid: ans254)**\n",
        "\n",
        "**Motor Vehicle Collisions - Crashes**, <br> https://data.cityofnewyork.us/Public-Safety/Motor-Vehicle-Collisions-Crashes/h9gi-nx95/about_data**\n",
        "\n",
        "**1. Summary and Idea** <br> <br>\n",
        "   The Motor Vehicle Collisions crash table contains detailed information about car accidents in New York City, with each row representing a single crash event. The data is collected from police-reported motor vehicle collisions across NYC <br> <br>\n",
        "\n",
        "**2. Primary columns and Describe** <br>\n",
        "1. CRASH DATE: Crucial for temporal analysis and identifying patterns over time.\n",
        "2. CRASH TIME: Allows for analysis of collision patterns throughout the day.\n",
        "3. OFF STREET NAME: Important for spatial analysis and identifying accident-prone locations.\n",
        "4. NUMBER OF PERSONS KILLED: Critical measure of crash fatality\n",
        "5. CONTRIBUTING FACTOR VEHICLE 1: Provides insights into the primary causes of accidents\n",
        "6. VEHICLE TYPE CODE 1: Key to understanding if vehicle type is also an issue (e.g., trucks or large vehicle obstructing view at intersection)\n",
        "7. NUMBER OF PERSONS INJURED: Key indicator of crash severity. <br> <br>\n",
        "\n",
        "**3. Questions** <br>\n",
        "1. How does crash severity and frequency vary by time of day and day of the week? By analyzing the CRASH DATE and CRASH TIME columns, we can identify peak hours for accidents and compare crash patterns between weekdays and weekends. This analysis may reveal specific times that are more prone to severe accidents, utilizing injury and fatality counts. The insights gained could help optimize traffic management strategies, inform the timing of increased law enforcement presence, and guide public awareness campaigns focused on high-risk periods.\n",
        "2. Explore the most common contributing factors to fatal crashes and how these factors differ across various road user types? By leveraging the CONTRIBUTING FACTOR VEHICLE columns alongside fatality counts for pedestrians, cyclists, and motorists, we can identify the top factors leading to fatal crashes. This analysis may also highlight differences in contributing factors for each road user type and examine the prevalence of certain factors in multi-vehicle collisions. The findings could be invaluable for developing targeted safety interventions, enhancing driver education programs, and informing necessary infrastructure improvements.\n",
        "3. Which streets or intersections have the highest rates of severe injuries and fatalities, along with the common factors present in these locations? By combining the OFF STREET NAME with injury and fatality counts, we can pinpoint accident hotspots and analyze the types of crashes that are most common at these sites. Additionally, we can examine whether certain contributing factors are more prevalent in high-risk areas. This analysis could significantly inform urban planning and road design improvements, the strategic placement of traffic calming measures, and the development of targeted local safety initiatives.\n"
      ]
    },
    {
      "cell_type": "markdown",
      "metadata": {
        "id": "qFl7q8ZSVMlJ"
      },
      "source": [
        "### Problem 2: Getting Data (35 points)\n",
        "\n",
        "#### Identify the datasets on NYC Open Data that can answer the following questions.\n",
        "*You do not actually have to answer the questions; only the dataset names, links, and relevant feature/variable names are needed. There could be multiple datasets that can answer below questions, and you just need to list the most relevant one in your mind.*\n",
        "1. How many sidewalk cafe license applications were there in NYC in 2021?\n",
        "2. How did the number of street trees in NYC increase from 2005 to 2015?\n",
        "3. On what date in 2020 did NYC have the highest positive rate of COVID-19 testing?\n",
        "4. Which school district in NYC has the lowest percentage of families who prefer remote learning?\n",
        "5. Where are the residential buildings in NYC that have the highest and lowest median rent per bedroom?\n",
        "6. Verify if anti-Asian hate crimes increased in recent years.\n",
        "7. Does general crime rate in NYC rise up in recent three years?"
      ]
    },
    {
      "cell_type": "markdown",
      "metadata": {
        "id": "esH7cqLDVMlK"
      },
      "source": [
        "1. License Applications, <br> https://data.cityofnewyork.us/Business/License-Applications/ptev-4hud/about_data, <br> 'Start Date' column\n",
        "\n",
        "2. 2015 Street Tree Census - Tree Data, <br> https://data.cityofnewyork.us/Environment/2015-Street-Tree-Census-Tree-Data/uvpi-gqnh/about_data, <br> 'created_at' column\n",
        "\n",
        "3. COVID-19 Daily Counts of Cases, Hospitalizations, and Deaths, <br> https://data.cityofnewyork.us/Health/COVID-19-Daily-Counts-of-Cases-Hospitalizations-an/rc75-m7u3/about_data,  <br> 'date_if_interest', 'CASE_COUNT' column\n",
        "\n",
        "4. Learning Preference City Remote Learning - as of Jan 4, 2021, <br> https://data.cityofnewyork.us/Education/Learning-Preference-City-Remote-Learning-as-of-Jan/k5d2-tkrr/about_data, <br> 'District', '% Remote' comumn\n",
        "\n",
        "5. Local Law 44 - Unit Income Rent, <br> https://data.cityofnewyork.us/Housing-Development/Local-Law-44-Unit-Income-Rent/9ay9-xkek/about_data,  <br> 'BedroomSize', 'MedianActualRent' column\n",
        "\n",
        "6. NYPD Hate Crimes, <br> https://data.cityofnewyork.us/Public-Safety/NYPD-Hate-Crimes/bqiq-cu78/about_data, <br> 'Record Create Date', 'Bias Motive Description' column\n",
        "\n",
        "7.  Citywide Crime Statistics, <br> (external link from NYC Open data) https://www.nyc.gov/site/nypd/stats/crime-statistics/citywide-crime-stats.page, <br> 'Year to Date', '2 Year' column"
      ]
    },
    {
      "cell_type": "markdown",
      "metadata": {
        "id": "9TWo5X1YVMlK"
      },
      "source": [
        "### Problem 3: Data Analysis with NYC Open Data (40 points)\n",
        "\n",
        "#### Use [Motor Vehicle Collisions - Crashes](https://data.cityofnewyork.us/Public-Safety/Motor-Vehicle-Collisions-Crashes/h9gi-nx95) and [Motor Vehicle Collisions - Person](https://data.cityofnewyork.us/Public-Safety/Motor-Vehicle-Collisions-Person/f55k-p6yu) to answer the following questions:\n",
        "1. Did the number of vehicle crashes increase or decrease after Covid-19 lockdown in March 2020? By how much three months later?\n",
        "2. Compare the number of vehicle crashes in 2022 to the number in 2019. What do you find?\n",
        "3. Where did the most serious vehicle crash (with the highest number of casualties) occur since 2020?\n",
        "4. Use matplotlib to make a plot of the death rate of pedestrians by age. Describe the trend."
      ]
    },
    {
      "cell_type": "code",
      "execution_count": 3,
      "metadata": {},
      "outputs": [],
      "source": [
        "import pandas as pd\n",
        "import matplotlib.pyplot as plt\n",
        "from datetime import datetime, timedelta"
      ]
    },
    {
      "cell_type": "code",
      "execution_count": 4,
      "metadata": {},
      "outputs": [
        {
          "name": "stderr",
          "output_type": "stream",
          "text": [
            "C:\\Users\\andrewpark\\AppData\\Local\\Temp\\ipykernel_21088\\20131507.py:1: DtypeWarning: Columns (3) have mixed types. Specify dtype option on import or set low_memory=False.\n",
            "  df_crashes = pd.read_csv('data/Motor_Vehicle_Collisions_-_Crashes_20240830.csv')\n"
          ]
        },
        {
          "data": {
            "text/html": [
              "<div>\n",
              "<style scoped>\n",
              "    .dataframe tbody tr th:only-of-type {\n",
              "        vertical-align: middle;\n",
              "    }\n",
              "\n",
              "    .dataframe tbody tr th {\n",
              "        vertical-align: top;\n",
              "    }\n",
              "\n",
              "    .dataframe thead th {\n",
              "        text-align: right;\n",
              "    }\n",
              "</style>\n",
              "<table border=\"1\" class=\"dataframe\">\n",
              "  <thead>\n",
              "    <tr style=\"text-align: right;\">\n",
              "      <th></th>\n",
              "      <th>CRASH DATE</th>\n",
              "      <th>CRASH TIME</th>\n",
              "      <th>BOROUGH</th>\n",
              "      <th>ZIP CODE</th>\n",
              "      <th>LATITUDE</th>\n",
              "      <th>LONGITUDE</th>\n",
              "      <th>LOCATION</th>\n",
              "      <th>ON STREET NAME</th>\n",
              "      <th>CROSS STREET NAME</th>\n",
              "      <th>OFF STREET NAME</th>\n",
              "      <th>...</th>\n",
              "      <th>CONTRIBUTING FACTOR VEHICLE 2</th>\n",
              "      <th>CONTRIBUTING FACTOR VEHICLE 3</th>\n",
              "      <th>CONTRIBUTING FACTOR VEHICLE 4</th>\n",
              "      <th>CONTRIBUTING FACTOR VEHICLE 5</th>\n",
              "      <th>COLLISION_ID</th>\n",
              "      <th>VEHICLE TYPE CODE 1</th>\n",
              "      <th>VEHICLE TYPE CODE 2</th>\n",
              "      <th>VEHICLE TYPE CODE 3</th>\n",
              "      <th>VEHICLE TYPE CODE 4</th>\n",
              "      <th>VEHICLE TYPE CODE 5</th>\n",
              "    </tr>\n",
              "  </thead>\n",
              "  <tbody>\n",
              "    <tr>\n",
              "      <th>0</th>\n",
              "      <td>09/11/2021</td>\n",
              "      <td>2:39</td>\n",
              "      <td>NaN</td>\n",
              "      <td>NaN</td>\n",
              "      <td>NaN</td>\n",
              "      <td>NaN</td>\n",
              "      <td>NaN</td>\n",
              "      <td>WHITESTONE EXPRESSWAY</td>\n",
              "      <td>20 AVENUE</td>\n",
              "      <td>NaN</td>\n",
              "      <td>...</td>\n",
              "      <td>Unspecified</td>\n",
              "      <td>NaN</td>\n",
              "      <td>NaN</td>\n",
              "      <td>NaN</td>\n",
              "      <td>4455765</td>\n",
              "      <td>Sedan</td>\n",
              "      <td>Sedan</td>\n",
              "      <td>NaN</td>\n",
              "      <td>NaN</td>\n",
              "      <td>NaN</td>\n",
              "    </tr>\n",
              "    <tr>\n",
              "      <th>1</th>\n",
              "      <td>03/26/2022</td>\n",
              "      <td>11:45</td>\n",
              "      <td>NaN</td>\n",
              "      <td>NaN</td>\n",
              "      <td>NaN</td>\n",
              "      <td>NaN</td>\n",
              "      <td>NaN</td>\n",
              "      <td>QUEENSBORO BRIDGE UPPER</td>\n",
              "      <td>NaN</td>\n",
              "      <td>NaN</td>\n",
              "      <td>...</td>\n",
              "      <td>NaN</td>\n",
              "      <td>NaN</td>\n",
              "      <td>NaN</td>\n",
              "      <td>NaN</td>\n",
              "      <td>4513547</td>\n",
              "      <td>Sedan</td>\n",
              "      <td>NaN</td>\n",
              "      <td>NaN</td>\n",
              "      <td>NaN</td>\n",
              "      <td>NaN</td>\n",
              "    </tr>\n",
              "    <tr>\n",
              "      <th>2</th>\n",
              "      <td>06/29/2022</td>\n",
              "      <td>6:55</td>\n",
              "      <td>NaN</td>\n",
              "      <td>NaN</td>\n",
              "      <td>NaN</td>\n",
              "      <td>NaN</td>\n",
              "      <td>NaN</td>\n",
              "      <td>THROGS NECK BRIDGE</td>\n",
              "      <td>NaN</td>\n",
              "      <td>NaN</td>\n",
              "      <td>...</td>\n",
              "      <td>Unspecified</td>\n",
              "      <td>NaN</td>\n",
              "      <td>NaN</td>\n",
              "      <td>NaN</td>\n",
              "      <td>4541903</td>\n",
              "      <td>Sedan</td>\n",
              "      <td>Pick-up Truck</td>\n",
              "      <td>NaN</td>\n",
              "      <td>NaN</td>\n",
              "      <td>NaN</td>\n",
              "    </tr>\n",
              "    <tr>\n",
              "      <th>3</th>\n",
              "      <td>09/11/2021</td>\n",
              "      <td>9:35</td>\n",
              "      <td>BROOKLYN</td>\n",
              "      <td>11208.0</td>\n",
              "      <td>40.667202</td>\n",
              "      <td>-73.866500</td>\n",
              "      <td>(40.667202, -73.8665)</td>\n",
              "      <td>NaN</td>\n",
              "      <td>NaN</td>\n",
              "      <td>1211      LORING AVENUE</td>\n",
              "      <td>...</td>\n",
              "      <td>NaN</td>\n",
              "      <td>NaN</td>\n",
              "      <td>NaN</td>\n",
              "      <td>NaN</td>\n",
              "      <td>4456314</td>\n",
              "      <td>Sedan</td>\n",
              "      <td>NaN</td>\n",
              "      <td>NaN</td>\n",
              "      <td>NaN</td>\n",
              "      <td>NaN</td>\n",
              "    </tr>\n",
              "    <tr>\n",
              "      <th>4</th>\n",
              "      <td>12/14/2021</td>\n",
              "      <td>8:13</td>\n",
              "      <td>BROOKLYN</td>\n",
              "      <td>11233.0</td>\n",
              "      <td>40.683304</td>\n",
              "      <td>-73.917274</td>\n",
              "      <td>(40.683304, -73.917274)</td>\n",
              "      <td>SARATOGA AVENUE</td>\n",
              "      <td>DECATUR STREET</td>\n",
              "      <td>NaN</td>\n",
              "      <td>...</td>\n",
              "      <td>NaN</td>\n",
              "      <td>NaN</td>\n",
              "      <td>NaN</td>\n",
              "      <td>NaN</td>\n",
              "      <td>4486609</td>\n",
              "      <td>NaN</td>\n",
              "      <td>NaN</td>\n",
              "      <td>NaN</td>\n",
              "      <td>NaN</td>\n",
              "      <td>NaN</td>\n",
              "    </tr>\n",
              "  </tbody>\n",
              "</table>\n",
              "<p>5 rows × 29 columns</p>\n",
              "</div>"
            ],
            "text/plain": [
              "   CRASH DATE CRASH TIME   BOROUGH ZIP CODE   LATITUDE  LONGITUDE  \\\n",
              "0  09/11/2021       2:39       NaN      NaN        NaN        NaN   \n",
              "1  03/26/2022      11:45       NaN      NaN        NaN        NaN   \n",
              "2  06/29/2022       6:55       NaN      NaN        NaN        NaN   \n",
              "3  09/11/2021       9:35  BROOKLYN  11208.0  40.667202 -73.866500   \n",
              "4  12/14/2021       8:13  BROOKLYN  11233.0  40.683304 -73.917274   \n",
              "\n",
              "                  LOCATION           ON STREET NAME CROSS STREET NAME  \\\n",
              "0                      NaN    WHITESTONE EXPRESSWAY         20 AVENUE   \n",
              "1                      NaN  QUEENSBORO BRIDGE UPPER               NaN   \n",
              "2                      NaN       THROGS NECK BRIDGE               NaN   \n",
              "3    (40.667202, -73.8665)                      NaN               NaN   \n",
              "4  (40.683304, -73.917274)          SARATOGA AVENUE    DECATUR STREET   \n",
              "\n",
              "           OFF STREET NAME  ...  CONTRIBUTING FACTOR VEHICLE 2  \\\n",
              "0                      NaN  ...                    Unspecified   \n",
              "1                      NaN  ...                            NaN   \n",
              "2                      NaN  ...                    Unspecified   \n",
              "3  1211      LORING AVENUE  ...                            NaN   \n",
              "4                      NaN  ...                            NaN   \n",
              "\n",
              "   CONTRIBUTING FACTOR VEHICLE 3  CONTRIBUTING FACTOR VEHICLE 4  \\\n",
              "0                            NaN                            NaN   \n",
              "1                            NaN                            NaN   \n",
              "2                            NaN                            NaN   \n",
              "3                            NaN                            NaN   \n",
              "4                            NaN                            NaN   \n",
              "\n",
              "   CONTRIBUTING FACTOR VEHICLE 5  COLLISION_ID  VEHICLE TYPE CODE 1  \\\n",
              "0                            NaN       4455765                Sedan   \n",
              "1                            NaN       4513547                Sedan   \n",
              "2                            NaN       4541903                Sedan   \n",
              "3                            NaN       4456314                Sedan   \n",
              "4                            NaN       4486609                  NaN   \n",
              "\n",
              "   VEHICLE TYPE CODE 2  VEHICLE TYPE CODE 3 VEHICLE TYPE CODE 4  \\\n",
              "0                Sedan                  NaN                 NaN   \n",
              "1                  NaN                  NaN                 NaN   \n",
              "2        Pick-up Truck                  NaN                 NaN   \n",
              "3                  NaN                  NaN                 NaN   \n",
              "4                  NaN                  NaN                 NaN   \n",
              "\n",
              "  VEHICLE TYPE CODE 5  \n",
              "0                 NaN  \n",
              "1                 NaN  \n",
              "2                 NaN  \n",
              "3                 NaN  \n",
              "4                 NaN  \n",
              "\n",
              "[5 rows x 29 columns]"
            ]
          },
          "execution_count": 4,
          "metadata": {},
          "output_type": "execute_result"
        }
      ],
      "source": [
        "df_crashes = pd.read_csv('data/Motor_Vehicle_Collisions_-_Crashes_20240830.csv')\n",
        "df_crashes.head()"
      ]
    },
    {
      "cell_type": "code",
      "execution_count": 5,
      "metadata": {},
      "outputs": [
        {
          "data": {
            "text/plain": [
              "Index(['CRASH DATE', 'CRASH TIME', 'BOROUGH', 'ZIP CODE', 'LATITUDE',\n",
              "       'LONGITUDE', 'LOCATION', 'ON STREET NAME', 'CROSS STREET NAME',\n",
              "       'OFF STREET NAME', 'NUMBER OF PERSONS INJURED',\n",
              "       'NUMBER OF PERSONS KILLED', 'NUMBER OF PEDESTRIANS INJURED',\n",
              "       'NUMBER OF PEDESTRIANS KILLED', 'NUMBER OF CYCLIST INJURED',\n",
              "       'NUMBER OF CYCLIST KILLED', 'NUMBER OF MOTORIST INJURED',\n",
              "       'NUMBER OF MOTORIST KILLED', 'CONTRIBUTING FACTOR VEHICLE 1',\n",
              "       'CONTRIBUTING FACTOR VEHICLE 2', 'CONTRIBUTING FACTOR VEHICLE 3',\n",
              "       'CONTRIBUTING FACTOR VEHICLE 4', 'CONTRIBUTING FACTOR VEHICLE 5',\n",
              "       'COLLISION_ID', 'VEHICLE TYPE CODE 1', 'VEHICLE TYPE CODE 2',\n",
              "       'VEHICLE TYPE CODE 3', 'VEHICLE TYPE CODE 4', 'VEHICLE TYPE CODE 5'],\n",
              "      dtype='object')"
            ]
          },
          "execution_count": 5,
          "metadata": {},
          "output_type": "execute_result"
        }
      ],
      "source": [
        "# Convert the date column to datetime format and check the columns\n",
        "df_crashes['CRASH DATE'] = pd.to_datetime(df_crashes['CRASH DATE'])\n",
        "df_crashes.columns"
      ]
    },
    {
      "cell_type": "markdown",
      "metadata": {},
      "source": [
        "## Question 1. Did the number of vehicle crashes increase or decrease after Covid-19 lockdown in March 2020? By how much three months later?\n"
      ]
    },
    {
      "cell_type": "code",
      "execution_count": 6,
      "metadata": {},
      "outputs": [
        {
          "data": {
            "text/plain": [
              "(1659978, 21371, -1638607)"
            ]
          },
          "execution_count": 6,
          "metadata": {},
          "output_type": "execute_result"
        }
      ],
      "source": [
        "# Filter data for March 2020, to check the number of crashes before and after Covid-19 lockdown in NYC\n",
        "pre_covid = df_crashes[df_crashes['CRASH DATE'] < '2020-03-01']\n",
        "post_covid = df_crashes[(df_crashes['CRASH DATE'] >= '2020-03-01') & (df_crashes['CRASH DATE'] < '2020-06-01')] # Considering three months later as the question asked\n",
        "\n",
        "# Count the number of crashes\n",
        "pre_covid_count = pre_covid.shape[0]\n",
        "post_covid_count = post_covid.shape[0]\n",
        "\n",
        "# Calculate the difference\n",
        "difference_q1 = post_covid_count - pre_covid_count\n",
        "\n",
        "pre_covid_count, post_covid_count, difference_q1\n"
      ]
    },
    {
      "cell_type": "code",
      "execution_count": 7,
      "metadata": {},
      "outputs": [
        {
          "name": "stdout",
          "output_type": "stream",
          "text": [
            "The count of crashes before the COVID-19 lockdown is 1659978.\n",
            "The count of crashes after the COVID-19 lockdown, within three months, is 21371.\n",
            "The number of crashes decreased by -1638607.\n"
          ]
        }
      ],
      "source": [
        "print(f\"The count of crashes before the COVID-19 lockdown is {pre_covid_count}.\")\n",
        "print(f\"The count of crashes after the COVID-19 lockdown, within three months, is {post_covid_count}.\")\n",
        "print(f\"The number of crashes decreased by {difference_q1}.\")"
      ]
    },
    {
      "cell_type": "markdown",
      "metadata": {},
      "source": [
        "The number of vehicle crashes decreased significantly after the COVID-19 lockdown, with a reduction of 1,638,607 crashes, from 1,659,978 before the lockdown to 21,371 within three months following it. This substantial decrease, approximately 98.7%, can likely be attributed to the reduced movement and traffic restrictions imposed during and immediately after the lockdown period."
      ]
    },
    {
      "cell_type": "markdown",
      "metadata": {},
      "source": [
        "## Question 2. Compare the number of vehicle crashes in 2022 to the number in 2019. What do you find?"
      ]
    },
    {
      "cell_type": "code",
      "execution_count": 10,
      "metadata": {},
      "outputs": [
        {
          "data": {
            "text/plain": [
              "(211486, 103886, -107600)"
            ]
          },
          "execution_count": 10,
          "metadata": {},
          "output_type": "execute_result"
        }
      ],
      "source": [
        "# Filter data for 2019 and 2022\n",
        "crashes_2019 = df_crashes[df_crashes['CRASH DATE'].dt.year == 2019]\n",
        "crashes_2022 = df_crashes[df_crashes['CRASH DATE'].dt.year == 2022]\n",
        "\n",
        "# Count the crashes\n",
        "crashes_2019_count = crashes_2019.shape[0]\n",
        "crashes_2022_count = crashes_2022.shape[0]\n",
        "\n",
        "difference_q2 = crashes_2022_count - crashes_2019_count\n",
        "\n",
        "crashes_2019_count, crashes_2022_count, difference_q2"
      ]
    },
    {
      "cell_type": "code",
      "execution_count": 11,
      "metadata": {},
      "outputs": [
        {
          "name": "stdout",
          "output_type": "stream",
          "text": [
            "The count of crashes in 2019 was 211486.\n",
            "The count of crashes in 2022 was 103886.\n",
            "The number of crashes changed by -107600.\n"
          ]
        }
      ],
      "source": [
        "print(f\"The count of crashes in 2019 was {crashes_2019_count}.\")\n",
        "print(f\"The count of crashes in 2022 was {crashes_2022_count}.\")\n",
        "print(f\"The number of crashes changed by {difference_q2}.\")"
      ]
    },
    {
      "cell_type": "markdown",
      "metadata": {},
      "source": [
        "The number of vehicle crashes decreased significantly from 2019 to 2022, with a reduction of 107,600 crashes, from 211,486 in 2019 to 103,886 in 2022. This substantial decrease, approximately 50.8%, may be attributed to various factors, including lingering effects of the COVID-19 pandemic on traffic volume and behavior, changes in traffic patterns, and increased safety measures."
      ]
    },
    {
      "cell_type": "markdown",
      "metadata": {},
      "source": [
        "## Question 3. Where did the most serious vehicle crash (with the highest number of casualties) occur since 2020?"
      ]
    },
    {
      "cell_type": "code",
      "execution_count": 12,
      "metadata": {},
      "outputs": [
        {
          "name": "stdout",
          "output_type": "stream",
          "text": [
            "Street Name with Highest Casualties: BELT PARKWAY\n",
            "Total Casualties for this Street: 3718.0\n",
            "Cross Street Name with Highest Casualties: 3 AVENUE\n",
            "Total Casualties for this Cross Street: 1233.0\n",
            "Borough with Highest Casualties: BROOKLYN\n",
            "Total Casualties for this Borough: 53572.0\n"
          ]
        }
      ],
      "source": [
        "# Filter data from 2020 onwards\n",
        "crashes_since_2020 = df_crashes[df_crashes['CRASH DATE'].dt.year >= 2020].copy()\n",
        "\n",
        "# Calculate total number of casualties\n",
        "crashes_since_2020['total casualties'] = crashes_since_2020['NUMBER OF PERSONS KILLED'] + crashes_since_2020['NUMBER OF PERSONS INJURED']\n",
        "\n",
        "# Find the street name with the highest total casualties\n",
        "crashes_street = crashes_since_2020.dropna(subset=['ON STREET NAME'])\n",
        "max_casualties_street = crashes_street.groupby('ON STREET NAME')['total casualties'].sum().idxmax()\n",
        "max_casualties_street_value = crashes_street.groupby('ON STREET NAME')['total casualties'].sum().max()\n",
        "\n",
        "# Find the cross street name with the highest total casualties\n",
        "crashes_cross_street = crashes_since_2020.dropna(subset=['CROSS STREET NAME'])\n",
        "max_casualties_cross_street = crashes_cross_street.groupby('CROSS STREET NAME')['total casualties'].sum().idxmax()\n",
        "max_casualties_cross_street_value = crashes_cross_street.groupby('CROSS STREET NAME')['total casualties'].sum().max()\n",
        "\n",
        "# Find the borough with the highest total casualties\n",
        "crashes_borough = crashes_since_2020.dropna(subset=['BOROUGH'])\n",
        "max_casualties_borough = crashes_borough.groupby('BOROUGH')['total casualties'].sum().idxmax()\n",
        "max_casualties_borough_value = crashes_borough.groupby('BOROUGH')['total casualties'].sum().max()\n",
        "\n",
        "# Display results\n",
        "print(f\"Street Name with Highest Casualties: {max_casualties_street}\")\n",
        "print(f\"Total Casualties for this Street: {max_casualties_street_value}\")\n",
        "\n",
        "print(f\"Cross Street Name with Highest Casualties: {max_casualties_cross_street}\")\n",
        "print(f\"Total Casualties for this Cross Street: {max_casualties_cross_street_value}\")\n",
        "\n",
        "print(f\"Borough with Highest Casualties: {max_casualties_borough}\")\n",
        "print(f\"Total Casualties for this Borough: {max_casualties_borough_value}\")\n"
      ]
    },
    {
      "cell_type": "markdown",
      "metadata": {},
      "source": [
        "Our code examines vehicle crash data from 2020 onward to pinpoint the locations with the highest casualties by separately analyzing street names, cross street names, and boroughs. By individually filtering out missing values for each location type, we ensure that no potentially significant data is excluded. The results reveal that Belt Parkway has the highest casualties among street names (3,718), 3 Avenue tops cross street names (1,233), and Brooklyn leads in total casualties among boroughs (53,572). Although street, cross street, and borough values may not always align perfectly, this approach allows for a comprehensive analysis of each location type."
      ]
    },
    {
      "cell_type": "markdown",
      "metadata": {},
      "source": [
        "## Question 4. Use matplotlib to make a plot of the death rate of pedestrians by age. Describe the trend."
      ]
    },
    {
      "cell_type": "code",
      "execution_count": 13,
      "metadata": {},
      "outputs": [
        {
          "data": {
            "text/html": [
              "<div>\n",
              "<style scoped>\n",
              "    .dataframe tbody tr th:only-of-type {\n",
              "        vertical-align: middle;\n",
              "    }\n",
              "\n",
              "    .dataframe tbody tr th {\n",
              "        vertical-align: top;\n",
              "    }\n",
              "\n",
              "    .dataframe thead th {\n",
              "        text-align: right;\n",
              "    }\n",
              "</style>\n",
              "<table border=\"1\" class=\"dataframe\">\n",
              "  <thead>\n",
              "    <tr style=\"text-align: right;\">\n",
              "      <th></th>\n",
              "      <th>UNIQUE_ID</th>\n",
              "      <th>COLLISION_ID</th>\n",
              "      <th>CRASH_DATE</th>\n",
              "      <th>CRASH_TIME</th>\n",
              "      <th>PERSON_ID</th>\n",
              "      <th>PERSON_TYPE</th>\n",
              "      <th>PERSON_INJURY</th>\n",
              "      <th>VEHICLE_ID</th>\n",
              "      <th>PERSON_AGE</th>\n",
              "      <th>EJECTION</th>\n",
              "      <th>...</th>\n",
              "      <th>BODILY_INJURY</th>\n",
              "      <th>POSITION_IN_VEHICLE</th>\n",
              "      <th>SAFETY_EQUIPMENT</th>\n",
              "      <th>PED_LOCATION</th>\n",
              "      <th>PED_ACTION</th>\n",
              "      <th>COMPLAINT</th>\n",
              "      <th>PED_ROLE</th>\n",
              "      <th>CONTRIBUTING_FACTOR_1</th>\n",
              "      <th>CONTRIBUTING_FACTOR_2</th>\n",
              "      <th>PERSON_SEX</th>\n",
              "    </tr>\n",
              "  </thead>\n",
              "  <tbody>\n",
              "    <tr>\n",
              "      <th>0</th>\n",
              "      <td>10249006</td>\n",
              "      <td>4229554</td>\n",
              "      <td>10/26/2019</td>\n",
              "      <td>9:43</td>\n",
              "      <td>31aa2bc0-f545-444f-8cdb-f1cb5cf00b89</td>\n",
              "      <td>Occupant</td>\n",
              "      <td>Unspecified</td>\n",
              "      <td>19141108.0</td>\n",
              "      <td>NaN</td>\n",
              "      <td>NaN</td>\n",
              "      <td>...</td>\n",
              "      <td>NaN</td>\n",
              "      <td>NaN</td>\n",
              "      <td>NaN</td>\n",
              "      <td>NaN</td>\n",
              "      <td>NaN</td>\n",
              "      <td>NaN</td>\n",
              "      <td>Registrant</td>\n",
              "      <td>NaN</td>\n",
              "      <td>NaN</td>\n",
              "      <td>U</td>\n",
              "    </tr>\n",
              "    <tr>\n",
              "      <th>1</th>\n",
              "      <td>10255054</td>\n",
              "      <td>4230587</td>\n",
              "      <td>10/25/2019</td>\n",
              "      <td>15:15</td>\n",
              "      <td>4629e500-a73e-48dc-b8fb-53124d124b80</td>\n",
              "      <td>Occupant</td>\n",
              "      <td>Unspecified</td>\n",
              "      <td>19144075.0</td>\n",
              "      <td>33.0</td>\n",
              "      <td>Not Ejected</td>\n",
              "      <td>...</td>\n",
              "      <td>Does Not Apply</td>\n",
              "      <td>Front passenger, if two or more persons, inclu...</td>\n",
              "      <td>Lap Belt &amp; Harness</td>\n",
              "      <td>NaN</td>\n",
              "      <td>NaN</td>\n",
              "      <td>Does Not Apply</td>\n",
              "      <td>Passenger</td>\n",
              "      <td>NaN</td>\n",
              "      <td>NaN</td>\n",
              "      <td>F</td>\n",
              "    </tr>\n",
              "    <tr>\n",
              "      <th>2</th>\n",
              "      <td>10253177</td>\n",
              "      <td>4230550</td>\n",
              "      <td>10/26/2019</td>\n",
              "      <td>17:55</td>\n",
              "      <td>ae48c136-1383-45db-83f4-2a5eecfb7cff</td>\n",
              "      <td>Occupant</td>\n",
              "      <td>Unspecified</td>\n",
              "      <td>19143133.0</td>\n",
              "      <td>55.0</td>\n",
              "      <td>NaN</td>\n",
              "      <td>...</td>\n",
              "      <td>NaN</td>\n",
              "      <td>NaN</td>\n",
              "      <td>NaN</td>\n",
              "      <td>NaN</td>\n",
              "      <td>NaN</td>\n",
              "      <td>NaN</td>\n",
              "      <td>Registrant</td>\n",
              "      <td>NaN</td>\n",
              "      <td>NaN</td>\n",
              "      <td>M</td>\n",
              "    </tr>\n",
              "    <tr>\n",
              "      <th>3</th>\n",
              "      <td>6650180</td>\n",
              "      <td>3565527</td>\n",
              "      <td>11/21/2016</td>\n",
              "      <td>13:05</td>\n",
              "      <td>2782525</td>\n",
              "      <td>Occupant</td>\n",
              "      <td>Unspecified</td>\n",
              "      <td>NaN</td>\n",
              "      <td>NaN</td>\n",
              "      <td>NaN</td>\n",
              "      <td>...</td>\n",
              "      <td>NaN</td>\n",
              "      <td>NaN</td>\n",
              "      <td>NaN</td>\n",
              "      <td>NaN</td>\n",
              "      <td>NaN</td>\n",
              "      <td>NaN</td>\n",
              "      <td>Notified Person</td>\n",
              "      <td>NaN</td>\n",
              "      <td>NaN</td>\n",
              "      <td>NaN</td>\n",
              "    </tr>\n",
              "    <tr>\n",
              "      <th>4</th>\n",
              "      <td>10255516</td>\n",
              "      <td>4231168</td>\n",
              "      <td>10/25/2019</td>\n",
              "      <td>11:16</td>\n",
              "      <td>e038e18f-40fb-4471-99cf-345eae36e064</td>\n",
              "      <td>Occupant</td>\n",
              "      <td>Unspecified</td>\n",
              "      <td>19144329.0</td>\n",
              "      <td>7.0</td>\n",
              "      <td>Not Ejected</td>\n",
              "      <td>...</td>\n",
              "      <td>Does Not Apply</td>\n",
              "      <td>Right rear passenger or motorcycle sidecar pas...</td>\n",
              "      <td>Lap Belt</td>\n",
              "      <td>NaN</td>\n",
              "      <td>NaN</td>\n",
              "      <td>Does Not Apply</td>\n",
              "      <td>Passenger</td>\n",
              "      <td>NaN</td>\n",
              "      <td>NaN</td>\n",
              "      <td>F</td>\n",
              "    </tr>\n",
              "  </tbody>\n",
              "</table>\n",
              "<p>5 rows × 21 columns</p>\n",
              "</div>"
            ],
            "text/plain": [
              "   UNIQUE_ID  COLLISION_ID  CRASH_DATE CRASH_TIME  \\\n",
              "0   10249006       4229554  10/26/2019       9:43   \n",
              "1   10255054       4230587  10/25/2019      15:15   \n",
              "2   10253177       4230550  10/26/2019      17:55   \n",
              "3    6650180       3565527  11/21/2016      13:05   \n",
              "4   10255516       4231168  10/25/2019      11:16   \n",
              "\n",
              "                              PERSON_ID PERSON_TYPE PERSON_INJURY  VEHICLE_ID  \\\n",
              "0  31aa2bc0-f545-444f-8cdb-f1cb5cf00b89    Occupant   Unspecified  19141108.0   \n",
              "1  4629e500-a73e-48dc-b8fb-53124d124b80    Occupant   Unspecified  19144075.0   \n",
              "2  ae48c136-1383-45db-83f4-2a5eecfb7cff    Occupant   Unspecified  19143133.0   \n",
              "3                               2782525    Occupant   Unspecified         NaN   \n",
              "4  e038e18f-40fb-4471-99cf-345eae36e064    Occupant   Unspecified  19144329.0   \n",
              "\n",
              "   PERSON_AGE     EJECTION  ...   BODILY_INJURY  \\\n",
              "0         NaN          NaN  ...             NaN   \n",
              "1        33.0  Not Ejected  ...  Does Not Apply   \n",
              "2        55.0          NaN  ...             NaN   \n",
              "3         NaN          NaN  ...             NaN   \n",
              "4         7.0  Not Ejected  ...  Does Not Apply   \n",
              "\n",
              "                                 POSITION_IN_VEHICLE    SAFETY_EQUIPMENT  \\\n",
              "0                                                NaN                 NaN   \n",
              "1  Front passenger, if two or more persons, inclu...  Lap Belt & Harness   \n",
              "2                                                NaN                 NaN   \n",
              "3                                                NaN                 NaN   \n",
              "4  Right rear passenger or motorcycle sidecar pas...            Lap Belt   \n",
              "\n",
              "  PED_LOCATION PED_ACTION       COMPLAINT         PED_ROLE  \\\n",
              "0          NaN        NaN             NaN       Registrant   \n",
              "1          NaN        NaN  Does Not Apply        Passenger   \n",
              "2          NaN        NaN             NaN       Registrant   \n",
              "3          NaN        NaN             NaN  Notified Person   \n",
              "4          NaN        NaN  Does Not Apply        Passenger   \n",
              "\n",
              "  CONTRIBUTING_FACTOR_1 CONTRIBUTING_FACTOR_2 PERSON_SEX  \n",
              "0                   NaN                   NaN          U  \n",
              "1                   NaN                   NaN          F  \n",
              "2                   NaN                   NaN          M  \n",
              "3                   NaN                   NaN        NaN  \n",
              "4                   NaN                   NaN          F  \n",
              "\n",
              "[5 rows x 21 columns]"
            ]
          },
          "execution_count": 13,
          "metadata": {},
          "output_type": "execute_result"
        }
      ],
      "source": [
        "df_crashes_person = pd.read_csv('data/Motor_Vehicle_Collisions_-_Person_20240830.csv')\n",
        "df_crashes_person.head()"
      ]
    },
    {
      "cell_type": "code",
      "execution_count": 14,
      "metadata": {},
      "outputs": [],
      "source": [
        "# Filter for pedestrians and those who were killed to plot the death rate\n",
        "pedestrian_deaths = df_crashes_person[(df_crashes_person['PERSON_TYPE'] == 'Pedestrian') & \n",
        "                                (df_crashes_person['PERSON_INJURY'] == 'Killed')]"
      ]
    },
    {
      "cell_type": "code",
      "execution_count": 15,
      "metadata": {},
      "outputs": [
        {
          "data": {
            "text/plain": [
              "PERSON_AGE\n",
              "1.0      6\n",
              "2.0      3\n",
              "3.0      9\n",
              "4.0      4\n",
              "5.0      7\n",
              "        ..\n",
              "95.0     2\n",
              "96.0     1\n",
              "97.0     1\n",
              "99.0     2\n",
              "149.0    1\n",
              "Length: 99, dtype: int64"
            ]
          },
          "execution_count": 15,
          "metadata": {},
          "output_type": "execute_result"
        }
      ],
      "source": [
        "# Group by the 'PERSON_AGE' column and count the number of occurrences\n",
        "death_by_age = pedestrian_deaths.groupby('PERSON_AGE').size()\n",
        "\n",
        "# Remove rows where age is not available (e.g., negative)\n",
        "death_by_age = death_by_age[death_by_age.index > 0]\n",
        "\n",
        "death_by_age"
      ]
    },
    {
      "cell_type": "code",
      "execution_count": 16,
      "metadata": {},
      "outputs": [
        {
          "data": {
            "text/plain": [
              "PERSON_AGE\n",
              "1.0     6\n",
              "2.0     3\n",
              "3.0     9\n",
              "4.0     4\n",
              "5.0     7\n",
              "       ..\n",
              "94.0    2\n",
              "95.0    2\n",
              "96.0    1\n",
              "97.0    1\n",
              "99.0    2\n",
              "Length: 98, dtype: int64"
            ]
          },
          "execution_count": 16,
          "metadata": {},
          "output_type": "execute_result"
        }
      ],
      "source": [
        "# Dropping where age is too high (e.g., 149)\n",
        "death_by_age = death_by_age[(death_by_age.index > 0) & (death_by_age.index < 100)]\n",
        "death_by_age"
      ]
    },
    {
      "cell_type": "code",
      "execution_count": 17,
      "metadata": {},
      "outputs": [],
      "source": [
        "# Calculate death rate as proportion of total deaths for each age\n",
        "total_deaths = death_by_age.sum()\n",
        "death_rate = death_by_age / total_deaths * 100"
      ]
    },
    {
      "cell_type": "code",
      "execution_count": 69,
      "metadata": {},
      "outputs": [
        {
          "data": {
            "image/png": "[encoded data removed]",
            "text/plain": [
              "<Figure size 1500x600 with 1 Axes>"
            ]
          },
          "metadata": {},
          "output_type": "display_data"
        }
      ],
      "source": [
        "# Apply a rolling average to smooth the death rate trend\n",
        "smoothed_death_rate = death_rate.rolling(window=5, center=True).mean()\n",
        "\n",
        "plt.figure(figsize=(15, 6))\n",
        "\n",
        "ax = death_rate.plot(kind='bar', color='blue', alpha=0.5, label='Original Death Rate')\n",
        "smoothed_death_rate.plot(kind='line', color='red', linewidth=2, label='Smoothed Death Rate', ax=ax)\n",
        "ax.set_xticklabels([int(age) for age in death_rate.index], rotation=0, ha='center', fontsize=6)\n",
        "plt.title('Pedestrian Death Rate by Age (with Smoothed Trend)')\n",
        "plt.xlabel('Age')\n",
        "plt.ylabel('Death Rate (%)')\n",
        "plt.grid(True)\n",
        "plt.legend()\n",
        "plt.tight_layout()\n",
        "plt.show()"
      ]
    },
    {
      "cell_type": "markdown",
      "metadata": {},
      "source": [
        "The pedestrian death rate reaches its lowest point at age 14, followed by a sharp increase until around ages 31–32. After that, there's a slight decline between ages 37 and 45, forming a range (or \"box\") where the death rate fluctuates between 0.75% and 1%. The highest range is observed between ages 58 and 73, where the death rate peaks around 2%. Afterward, there is a sharp decline up to age 79, followed by a slight increase around ages 80–85 to approximately 1.4%, after which the death rate continues to steadily decrease.\n",
        "\n",
        "A window of 5 is chosen to balance smoothing the data without overly flattening important trends across age groups."
      ]
    }
  ],
  "metadata": {
    "colab": {
      "provenance": []
    },
    "kernelspec": {
      "display_name": "Python 3",
      "language": "python",
      "name": "python3"
    },
    "language_info": {
      "codemirror_mode": {
        "name": "ipython",
        "version": 3
      },
      "file_extension": ".py",
      "mimetype": "text/x-python",
      "name": "python",
      "nbconvert_exporter": "python",
      "pygments_lexer": "ipython3",
      "version": "3.12.4"
    }
  },
  "nbformat": 4,
  "nbformat_minor": 0
}
